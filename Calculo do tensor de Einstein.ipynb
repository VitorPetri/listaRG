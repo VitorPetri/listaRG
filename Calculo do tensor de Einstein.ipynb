{
 "cells": [
  {
   "cell_type": "markdown",
   "metadata": {},
   "source": [
    "# Código para o cálculo do tensor de Einstein\n",
    "\n",
    "A partir de uma métrica podemos calcular os símbolos de Christoffel.\n",
    "\n",
    "$\\Gamma^{\\mu}_{\\nu\\lambda}=\\frac{1}{2}g^{\\mu\\alpha}(\\partial_\\lambda g_{\\nu\\alpha}+\\partial_\\nu g_{\\lambda\\alpha}-\\partial_\\alpha g_{\\nu\\lambda})$\n",
    "\n",
    "Com os símbolos podemos calcular os tensores de Ricci. \n",
    "\n",
    "$R_{\\mu\\nu}=\\partial_\\alpha \\Gamma^{\\alpha}_{\\mu\\nu}+\\Gamma^{\\lambda}_{\\mu\\nu}\\Gamma^{\\alpha}_{\\lambda\\alpha}-\\partial_\\nu\\Gamma^{\\alpha}_{\\nu\\alpha}-\\Gamma^{\\alpha}_{\\lambda\\nu}\\Gamma^{\\lambda}_{\\mu\\alpha}$\n",
    "\n",
    "Com os tensores de Ricci e a métrica, podemos calcular o escalar de Ricci.\n",
    "\n",
    "$R=g^{\\mu\\nu}R_{\\mu\\nu}$\n",
    "\n",
    "Com os tensores de Ricci, a métrica e o escalar de Ricci, calculamos o tensor de Einstein.\n",
    "\n",
    "$G_{\\mu\\nu}=R_{\\mu\\nu}-\\frac{1}{2}g_{\\mu\\nu}R$"
   ]
  },
  {
   "cell_type": "markdown",
   "metadata": {},
   "source": [
    "## Métrica"
   ]
  },
  {
   "cell_type": "code",
   "execution_count": 4,
   "metadata": {},
   "outputs": [
    {
     "name": "stdout",
     "output_type": "stream",
     "text": [
      "⎡-A(r)   0    0       0     ⎤\n",
      "⎢                           ⎥\n",
      "⎢  0    B(r)  0       0     ⎥\n",
      "⎢                           ⎥\n",
      "⎢              2            ⎥\n",
      "⎢  0     0    r       0     ⎥\n",
      "⎢                           ⎥\n",
      "⎢                  2    2   ⎥\n",
      "⎣  0     0    0   r ⋅sin (θ)⎦\n",
      "⎡-1                        ⎤\n",
      "⎢────   0    0       0     ⎥\n",
      "⎢A(r)                      ⎥\n",
      "⎢                          ⎥\n",
      "⎢       1                  ⎥\n",
      "⎢ 0    ────  0       0     ⎥\n",
      "⎢      B(r)                ⎥\n",
      "⎢                          ⎥\n",
      "⎢            1             ⎥\n",
      "⎢ 0     0    ──      0     ⎥\n",
      "⎢             2            ⎥\n",
      "⎢            r             ⎥\n",
      "⎢                          ⎥\n",
      "⎢                    1     ⎥\n",
      "⎢ 0     0    0   ──────────⎥\n",
      "⎢                 2    2   ⎥\n",
      "⎣                r ⋅sin (θ)⎦\n"
     ]
    }
   ],
   "source": [
    "import sympy as sp\n",
    "sp.init_printing()\n",
    "\n",
    "# Definição dos símbolos e variáveis\n",
    "t, r, theta, phi = sp.symbols('t r theta phi')\n",
    "A, B = sp.symbols('A B', cls=sp.Function)\n",
    "\n",
    "# Definição da métrica\n",
    "metric = sp.Matrix([\n",
    "    [-A(r), 0, 0, 0],\n",
    "    [0, B(r), 0, 0],\n",
    "    [0, 0, r**2, 0],\n",
    "    [0, 0, 0, r**2*sp.sin(theta)**2]\n",
    "])\n",
    "\n",
    "# Mostrando a métrica\n",
    "sp.pprint(metric)\n",
    "\n",
    "# Inverso da métrica e mostrando o inverso da métrica\n",
    "metric_inv = metric.inv()\n",
    "sp.pprint(metric_inv)"
   ]
  },
  {
   "cell_type": "markdown",
   "metadata": {},
   "source": [
    "## Símbolos de Christoffel"
   ]
  },
  {
   "cell_type": "code",
   "execution_count": 2,
   "metadata": {},
   "outputs": [
    {
     "name": "stdout",
     "output_type": "stream",
     "text": [
      "Christoffel(0,0,1): 0.5*Derivative(A(r), r)/A(r)\n",
      "Christoffel(0,1,0): 0.5*Derivative(A(r), r)/A(r)\n",
      "Christoffel(1,0,0): 0.5*Derivative(A(r), r)/B(r)\n",
      "Christoffel(1,1,1): 0.5*Derivative(B(r), r)/B(r)\n",
      "Christoffel(1,2,2): -1.0*r/B(r)\n",
      "Christoffel(1,3,3): -1.0*r*sin(theta)**2/B(r)\n",
      "Christoffel(2,1,2): 1.0/r\n",
      "Christoffel(2,2,1): 1.0/r\n",
      "Christoffel(2,3,3): -0.5*sin(2*theta)\n",
      "Christoffel(3,1,3): 1.0/r\n",
      "Christoffel(3,2,3): 1.0/tan(theta)\n",
      "Christoffel(3,3,1): 1.0/r\n",
      "Christoffel(3,3,2): 1.0/tan(theta)\n"
     ]
    }
   ],
   "source": [
    "# Derivadas da métrica em relação às componentes\n",
    "dmetric = [metric.diff(x) for x in (t, r, theta, phi)]\n",
    "\n",
    "# Definindo a função que chamará o símbolo de Christoffel\n",
    "def christoffel(i,j,k):\n",
    "    return sum(0.5 * metric_inv[i, a] * (dmetric[k][j, a] + dmetric[j][k,a] - dmetric[a][j, k])  for a in range(4))\n",
    "\n",
    "# Printando os não nulos\n",
    "for i in range(4):\n",
    "    for j in range(4):\n",
    "        for k in range(4):\n",
    "            if christoffel(i,j,k)!=0:\n",
    "                print(f\"Christoffel({i},{j},{k}): {sp.simplify(christoffel(i,j,k))}\")\n",
    "            else:\n",
    "                pass"
   ]
  },
  {
   "cell_type": "markdown",
   "metadata": {},
   "source": [
    "## Tensores de Ricci"
   ]
  },
  {
   "cell_type": "code",
   "execution_count": 3,
   "metadata": {},
   "outputs": [
    {
     "name": "stdout",
     "output_type": "stream",
     "text": [
      "Ricci(0,0):0.5*Derivative(A(r), (r, 2))/B(r) - 0.25*Derivative(A(r), r)*Derivative(B(r), r)/B(r)**2 - 0.25*Derivative(A(r), r)**2/(A(r)*B(r)) + 1.0*Derivative(A(r), r)/(r*B(r))\n",
      "Ricci(1,1):-0.5*Derivative(A(r), (r, 2))/A(r) + 0.25*Derivative(A(r), r)*Derivative(B(r), r)/(A(r)*B(r)) + 0.25*Derivative(A(r), r)**2/A(r)**2 + 1.0*Derivative(B(r), r)/(r*B(r))\n",
      "Ricci(2,2):0.5*r*Derivative(B(r), r)/B(r)**2 - 0.5*r*Derivative(A(r), r)/(A(r)*B(r)) + 1.0 - 1.0/B(r)\n",
      "Ricci(3,3):(0.5*r*A(r)*Derivative(B(r), r) - 0.5*r*B(r)*Derivative(A(r), r) + 1.0*A(r)*B(r)**2 - 1.0*A(r)*B(r))*sin(theta)**2/(A(r)*B(r)**2)\n"
     ]
    }
   ],
   "source": [
    "# Definindo a derivada dos símbolos\n",
    "def dChristoffel(d,i,j,k):\n",
    "    if d==0:\n",
    "        return christoffel(i,j,k).diff(t)\n",
    "    elif d==1:\n",
    "        return christoffel(i,j,k).diff(r)\n",
    "    elif d==2:\n",
    "        return christoffel(i,j,k).diff(theta)\n",
    "    elif d==3:\n",
    "        return christoffel(i,j,k).diff(phi)\n",
    "\n",
    "# Definindo o tensor de Ricci com apenas um índice mudo\n",
    "def ricci_a(a,i,j):\n",
    "    if a==0:\n",
    "        return dChristoffel(0,0,i,j) + sum(christoffel(0,l,0)*christoffel(l,i,j)for l in range(4))\\\n",
    "             - dChristoffel(j,0,i,0) - sum(christoffel(0,l,j)*christoffel(l,i,0)for l in range(4))\n",
    "    elif a==1:\n",
    "        return dChristoffel(1,1,i,j) + sum(christoffel(1,l,1)*christoffel(l,i,j)for l in range(4))\\\n",
    "             - dChristoffel(j,1,i,1) - sum(christoffel(1,l,j)*christoffel(l,i,1)for l in range(4))\n",
    "    elif a==2:\n",
    "        return dChristoffel(2,2,i,j) + sum(christoffel(2,l,2)*christoffel(l,i,j)for l in range(4))\\\n",
    "             - dChristoffel(j,2,i,2) - sum(christoffel(2,l,j)*christoffel(l,i,2)for l in range(4))\n",
    "    elif a==3:\n",
    "        return dChristoffel(3,3,i,j) + sum(christoffel(3,l,3)*christoffel(l,i,j)for l in range(4))\\\n",
    "             - dChristoffel(j,3,i,3) - sum(christoffel(3,l,j)*christoffel(l,i,3)for l in range(4))\n",
    "    \n",
    "# Definindo o tensor de Ricci abreviado\n",
    "def ricci(i,j):\n",
    "    return sum(ricci_a(a,i,j) for a in range(4))\n",
    "\n",
    "# Printando os tensores de Ricci não nulos\n",
    "for i in range(4):\n",
    "    for j in range(4):\n",
    "        if ricci(i,j)!=0:\n",
    "            print(f\"Ricci({i},{j}):{sp.simplify(ricci(i,j))}\")\n",
    "        else:\n",
    "            pass"
   ]
  },
  {
   "cell_type": "markdown",
   "metadata": {},
   "source": [
    "## Escalar de Ricci"
   ]
  },
  {
   "cell_type": "code",
   "execution_count": 4,
   "metadata": {},
   "outputs": [
    {
     "name": "stdout",
     "output_type": "stream",
     "text": [
      "Escalar de Ricci = -1.0*Derivative(A(r), (r, 2))/(A(r)*B(r)) + 0.5*Derivative(A(r), r)*Derivative(B(r), r)/(A(r)*B(r)**2) + 0.5*Derivative(A(r), r)**2/(A(r)**2*B(r)) + 2.0*Derivative(B(r), r)/(r*B(r)**2) - 2.0*Derivative(A(r), r)/(r*A(r)*B(r)) + 2.0/r**2 - 2.0/(r**2*B(r))\n"
     ]
    }
   ],
   "source": [
    "# Escalar para um índice mudo\n",
    "escalar_ricci_0=sum(metric_inv[0,j]*ricci(0,j) for j in range(4))\n",
    "escalar_ricci_1=sum(metric_inv[1,j]*ricci(1,j) for j in range(4))\n",
    "escalar_ricci_2=sum(metric_inv[2,j]*ricci(2,j) for j in range(4))\n",
    "escalar_ricci_3=sum(metric_inv[3,j]*ricci(3,j) for j in range(4))\n",
    "\n",
    "# Escalar total\n",
    "escalar_ricci=escalar_ricci_0+escalar_ricci_1+escalar_ricci_2+escalar_ricci_3\n",
    "\n",
    "# Mostrando\n",
    "print(f\"Escalar de Ricci = {sp.simplify(escalar_ricci)}\")"
   ]
  },
  {
   "cell_type": "markdown",
   "metadata": {},
   "source": [
    "## Tensores de Einstein"
   ]
  },
  {
   "cell_type": "code",
   "execution_count": 5,
   "metadata": {},
   "outputs": [
    {
     "name": "stdout",
     "output_type": "stream",
     "text": [
      "Einsteins(0,0): 1.0*(r*Derivative(B(r), r) + B(r)**2 - B(r))*A(r)/(r**2*B(r)**2)\n",
      "Einsteins(1,1): 1.0*Derivative(A(r), r)/(r*A(r)) - 1.0*B(r)/r**2 + 1.0/r**2\n",
      "Einsteins(2,2): 1.0*r*(0.5*r*A(r)*B(r)*Derivative(A(r), (r, 2)) - 0.25*r*A(r)*Derivative(A(r), r)*Derivative(B(r), r) - 0.25*r*B(r)*Derivative(A(r), r)**2 - 0.5*A(r)**2*Derivative(B(r), r) + 0.5*A(r)*B(r)*Derivative(A(r), r))/(A(r)**2*B(r)**2)\n",
      "Einsteins(3,3): 1.0*r*(0.5*r*A(r)*B(r)*Derivative(A(r), (r, 2)) - 0.25*r*A(r)*Derivative(A(r), r)*Derivative(B(r), r) - 0.25*r*B(r)*Derivative(A(r), r)**2 - 0.5*A(r)**2*Derivative(B(r), r) + 0.5*A(r)*B(r)*Derivative(A(r), r))*sin(theta)**2/(A(r)**2*B(r)**2)\n"
     ]
    }
   ],
   "source": [
    "# Definindo o tensor\n",
    "def einstein(i,j):\n",
    "    return ricci(i,j)-0.5*metric[i,j]*escalar_ricci\n",
    "\n",
    "# Printandos os tensores de Einstein não nulos\n",
    "for i in range(4):\n",
    "    for j in range(4):\n",
    "        if einstein(i,j)!=0:\n",
    "            print(f\"Einsteins({i},{j}): {sp.simplify(einstein(i,j))}\")\n",
    "        else:\n",
    "            pass"
   ]
  }
 ],
 "metadata": {
  "kernelspec": {
   "display_name": "Python 3",
   "language": "python",
   "name": "python3"
  },
  "language_info": {
   "codemirror_mode": {
    "name": "ipython",
    "version": 3
   },
   "file_extension": ".py",
   "mimetype": "text/x-python",
   "name": "python",
   "nbconvert_exporter": "python",
   "pygments_lexer": "ipython3",
   "version": "3.12.3"
  }
 },
 "nbformat": 4,
 "nbformat_minor": 2
}
