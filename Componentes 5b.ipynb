{
 "cells": [
  {
   "cell_type": "markdown",
   "metadata": {},
   "source": [
    "## 5.b) Elemento de linha\n",
    "\n",
    "$ds²=-\\left(1-\\frac{\\Lambda}{3}r²\\right)dt²+\\frac{1}{1-\\frac{\\Lambda}{3}r²}dr²+r²d\\Omega²$"
   ]
  },
  {
   "cell_type": "markdown",
   "metadata": {},
   "source": [
    "## Métrica"
   ]
  },
  {
   "cell_type": "code",
   "execution_count": 8,
   "metadata": {},
   "outputs": [
    {
     "name": "stdout",
     "output_type": "stream",
     "text": [
      "⎡   2                                ⎤\n",
      "⎢L⋅r                                 ⎥\n",
      "⎢──── - 1      0       0       0     ⎥\n",
      "⎢ 3                                  ⎥\n",
      "⎢                                    ⎥\n",
      "⎢              1                     ⎥\n",
      "⎢   0      ──────────  0       0     ⎥\n",
      "⎢               2                    ⎥\n",
      "⎢            L⋅r                     ⎥\n",
      "⎢          - ──── + 1                ⎥\n",
      "⎢             3                      ⎥\n",
      "⎢                                    ⎥\n",
      "⎢                       2            ⎥\n",
      "⎢   0          0       r       0     ⎥\n",
      "⎢                                    ⎥\n",
      "⎢                           2    2   ⎥\n",
      "⎣   0          0       0   r ⋅sin (θ)⎦\n",
      "⎡   1                                ⎤\n",
      "⎢────────      0       0       0     ⎥\n",
      "⎢   2                                ⎥\n",
      "⎢L⋅r                                 ⎥\n",
      "⎢──── - 1                            ⎥\n",
      "⎢ 3                                  ⎥\n",
      "⎢                                    ⎥\n",
      "⎢               2                    ⎥\n",
      "⎢            L⋅r                     ⎥\n",
      "⎢   0      - ──── + 1  0       0     ⎥\n",
      "⎢             3                      ⎥\n",
      "⎢                                    ⎥\n",
      "⎢                      1             ⎥\n",
      "⎢   0          0       ──      0     ⎥\n",
      "⎢                       2            ⎥\n",
      "⎢                      r             ⎥\n",
      "⎢                                    ⎥\n",
      "⎢                              1     ⎥\n",
      "⎢   0          0       0   ──────────⎥\n",
      "⎢                           2    2   ⎥\n",
      "⎣                          r ⋅sin (θ)⎦\n"
     ]
    }
   ],
   "source": [
    "import sympy as sp\n",
    "\n",
    "# Definição dos símbolos e variáveis\n",
    "t, r, theta, phi = sp.symbols('t r theta phi')\n",
    "L = sp.symbols('L', constant=True)\n",
    "\n",
    "# Definição da métrica\n",
    "metric = sp.Matrix([\n",
    "    [-(1-(L/3)*r**2), 0, 0, 0],\n",
    "    [0, 1/(1-(L/3)*r**2), 0, 0],\n",
    "    [0, 0, r**2, 0],\n",
    "    [0, 0, 0, r**2*sp.sin(theta)**2]\n",
    "])\n",
    "\n",
    "# Mostrando a métrica\n",
    "sp.pprint(metric)\n",
    "\n",
    "# Inverso da métrica e mostrando o inverso da métrica\n",
    "metric_inv = metric.inv()\n",
    "sp.pprint(metric_inv)\n"
   ]
  },
  {
   "cell_type": "markdown",
   "metadata": {},
   "source": [
    "## Símbolos de Christoffel"
   ]
  },
  {
   "cell_type": "code",
   "execution_count": 9,
   "metadata": {},
   "outputs": [
    {
     "name": "stdout",
     "output_type": "stream",
     "text": [
      "Christoffel(0,0,1): 1.0*L*r/(L*r**2 - 3)\n",
      "Christoffel(0,1,0): 1.0*L*r/(L*r**2 - 3)\n",
      "Christoffel(1,0,0): L*r*(0.111111111111111*L*r**2 - 0.333333333333333)\n",
      "Christoffel(1,1,1): -1.0*L*r/(1.0*L*r**2 - 3.0)\n",
      "Christoffel(1,2,2): r*(0.333333333333333*L*r**2 - 1.0)\n",
      "Christoffel(1,3,3): r*(0.333333333333333*L*r**2 - 1.0)*sin(theta)**2\n",
      "Christoffel(2,1,2): 1.0/r\n",
      "Christoffel(2,2,1): 1.0/r\n",
      "Christoffel(2,3,3): -0.5*sin(2*theta)\n",
      "Christoffel(3,1,3): 1.0/r\n",
      "Christoffel(3,2,3): 1.0/tan(theta)\n",
      "Christoffel(3,3,1): 1.0/r\n",
      "Christoffel(3,3,2): 1.0/tan(theta)\n"
     ]
    }
   ],
   "source": [
    "# Derivadas da métrica em relação às componentes\n",
    "dmetric = [metric.diff(x) for x in (t, r, theta, phi)]\n",
    "\n",
    "# Definindo a função que chamará o símbolo de Christoffel\n",
    "def christoffel(i,j,k):\n",
    "    return sum(0.5 * metric_inv[i, a] * (dmetric[k][j, a] + dmetric[j][k,a] - dmetric[a][j, k])  for a in range(4))\n",
    "\n",
    "# Printando os não nulos\n",
    "for i in range(4):\n",
    "    for j in range(4):\n",
    "        for k in range(4):\n",
    "            if christoffel(i,j,k)!=0:\n",
    "                print(f\"Christoffel({i},{j},{k}): {sp.simplify(christoffel(i,j,k))}\")\n",
    "            else:\n",
    "                pass"
   ]
  },
  {
   "cell_type": "markdown",
   "metadata": {},
   "source": [
    "## Tensores de Ricci"
   ]
  },
  {
   "cell_type": "code",
   "execution_count": 10,
   "metadata": {},
   "outputs": [
    {
     "name": "stdout",
     "output_type": "stream",
     "text": [
      "Ricci(0,0):L*(0.333333333333333*L*r**2 - 1.0)\n",
      "Ricci(1,1):-3.0*L/(1.0*L*r**2 - 3.0)\n",
      "Ricci(2,2):1.0*L*r**2\n",
      "Ricci(3,3):1.0*L*r**2*sin(theta)**2\n"
     ]
    }
   ],
   "source": [
    "# Definindo a derivada dos símbolos\n",
    "def dChristoffel(d,i,j,k):\n",
    "    if d==0:\n",
    "        return christoffel(i,j,k).diff(t)\n",
    "    elif d==1:\n",
    "        return christoffel(i,j,k).diff(r)\n",
    "    elif d==2:\n",
    "        return christoffel(i,j,k).diff(theta)\n",
    "    elif d==3:\n",
    "        return christoffel(i,j,k).diff(phi)\n",
    "\n",
    "# Definindo o tensor de Ricci com apenas um índice mudo\n",
    "def ricci_a(a,i,j):\n",
    "    if a==0:\n",
    "        return dChristoffel(0,0,i,j) + sum(christoffel(0,l,0)*christoffel(l,i,j)for l in range(4))\\\n",
    "             - dChristoffel(j,0,i,0) - sum(christoffel(0,l,j)*christoffel(l,i,0)for l in range(4))\n",
    "    elif a==1:\n",
    "        return dChristoffel(1,1,i,j) + sum(christoffel(1,l,1)*christoffel(l,i,j)for l in range(4))\\\n",
    "             - dChristoffel(j,1,i,1) - sum(christoffel(1,l,j)*christoffel(l,i,1)for l in range(4))\n",
    "    elif a==2:\n",
    "        return dChristoffel(2,2,i,j) + sum(christoffel(2,l,2)*christoffel(l,i,j)for l in range(4))\\\n",
    "             - dChristoffel(j,2,i,2) - sum(christoffel(2,l,j)*christoffel(l,i,2)for l in range(4))\n",
    "    elif a==3:\n",
    "        return dChristoffel(3,3,i,j) + sum(christoffel(3,l,3)*christoffel(l,i,j)for l in range(4))\\\n",
    "             - dChristoffel(j,3,i,3) - sum(christoffel(3,l,j)*christoffel(l,i,3)for l in range(4))\n",
    "    \n",
    "# Definindo o tensor de Ricci abreviado\n",
    "def ricci(i,j):\n",
    "    return sum(ricci_a(a,i,j) for a in range(4))\n",
    "\n",
    "# Printando os tensores de Ricci não nulos\n",
    "for i in range(4):\n",
    "    for j in range(4):\n",
    "        if ricci(i,j)!=0:\n",
    "            print(f\"Ricci({i},{j}):{sp.simplify(ricci(i,j))}\")\n",
    "        else:\n",
    "            pass"
   ]
  },
  {
   "cell_type": "markdown",
   "metadata": {},
   "source": [
    "## Escalar de Ricci"
   ]
  },
  {
   "cell_type": "code",
   "execution_count": 11,
   "metadata": {},
   "outputs": [
    {
     "name": "stdout",
     "output_type": "stream",
     "text": [
      "Escalar de Ricci = 4.0*L\n"
     ]
    }
   ],
   "source": [
    "# Escalar para um índice mudo\n",
    "escalar_ricci_0=sum(metric_inv[0,j]*ricci(0,j) for j in range(4))\n",
    "escalar_ricci_1=sum(metric_inv[1,j]*ricci(1,j) for j in range(4))\n",
    "escalar_ricci_2=sum(metric_inv[2,j]*ricci(2,j) for j in range(4))\n",
    "escalar_ricci_3=sum(metric_inv[3,j]*ricci(3,j) for j in range(4))\n",
    "\n",
    "# Escalar total\n",
    "escalar_ricci=escalar_ricci_0+escalar_ricci_1+escalar_ricci_2+escalar_ricci_3\n",
    "\n",
    "# Mostrando\n",
    "print(f\"Escalar de Ricci = {sp.simplify(escalar_ricci)}\")"
   ]
  }
 ],
 "metadata": {
  "kernelspec": {
   "display_name": "Python 3",
   "language": "python",
   "name": "python3"
  },
  "language_info": {
   "codemirror_mode": {
    "name": "ipython",
    "version": 3
   },
   "file_extension": ".py",
   "mimetype": "text/x-python",
   "name": "python",
   "nbconvert_exporter": "python",
   "pygments_lexer": "ipython3",
   "version": "3.10.12"
  }
 },
 "nbformat": 4,
 "nbformat_minor": 2
}
