{
 "cells": [
  {
   "cell_type": "code",
   "execution_count": 5,
   "metadata": {},
   "outputs": [
    {
     "name": "stdout",
     "output_type": "stream",
     "text": [
      "⎡1  0   0⎤\n",
      "⎢        ⎥\n",
      "⎢    2   ⎥\n",
      "⎢0  r   0⎥\n",
      "⎢        ⎥\n",
      "⎣0  0   1⎦\n",
      "⎡1  0   0⎤\n",
      "⎢        ⎥\n",
      "⎢   1    ⎥\n",
      "⎢0  ──  0⎥\n",
      "⎢    2   ⎥\n",
      "⎢   r    ⎥\n",
      "⎢        ⎥\n",
      "⎣0  0   1⎦\n"
     ]
    }
   ],
   "source": [
    "import sympy as sp\n",
    "\n",
    "# Definição dos símbolos e variáveis\n",
    "r, theta, z = sp.symbols('r theta z')\n",
    "\n",
    "# Definição da métrica\n",
    "metric = sp.Matrix([\n",
    "    [1, 0, 0],\n",
    "    [0, r**2, 0],\n",
    "    [0, 0, 1]\n",
    "])\n",
    "\n",
    "# Mostrando a métrica\n",
    "sp.pprint(metric)\n",
    "\n",
    "# Inverso da métrica e mostrando o inverso da métrica\n",
    "metric_inv = metric.inv()\n",
    "sp.pprint(metric_inv)\n"
   ]
  },
  {
   "cell_type": "code",
   "execution_count": 6,
   "metadata": {},
   "outputs": [
    {
     "name": "stdout",
     "output_type": "stream",
     "text": [
      "Christoffel(0,1,1): -1.0*r\n",
      "Christoffel(1,0,1): 1.0/r\n",
      "Christoffel(1,1,0): 1.0/r\n"
     ]
    }
   ],
   "source": [
    "# Derivadas da métrica em relação às componentes\n",
    "dmetric = [metric.diff(x) for x in (r, theta, z)]\n",
    "\n",
    "# Definindo a função que chamará o símbolo de Christoffel\n",
    "def christoffel(i,j,k):\n",
    "    return sum(0.5 * metric_inv[i, a] * (dmetric[k][j, a] + dmetric[j][k,a] - dmetric[a][j, k])  for a in range(3))\n",
    "\n",
    "# Printando os não nulos\n",
    "for i in range(3):\n",
    "    for j in range(3):\n",
    "        for k in range(3):\n",
    "            if christoffel(i,j,k)!=0:\n",
    "                print(f\"Christoffel({i},{j},{k}): {christoffel(i,j,k)}\")\n",
    "            else:\n",
    "                pass"
   ]
  }
 ],
 "metadata": {
  "kernelspec": {
   "display_name": "Python 3",
   "language": "python",
   "name": "python3"
  },
  "language_info": {
   "codemirror_mode": {
    "name": "ipython",
    "version": 3
   },
   "file_extension": ".py",
   "mimetype": "text/x-python",
   "name": "python",
   "nbconvert_exporter": "python",
   "pygments_lexer": "ipython3",
   "version": "3.10.12"
  }
 },
 "nbformat": 4,
 "nbformat_minor": 2
}
